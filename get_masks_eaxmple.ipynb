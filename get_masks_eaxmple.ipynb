{
 "cells": [
  {
   "cell_type": "code",
   "execution_count": 2,
   "metadata": {},
   "outputs": [],
   "source": [
    "import cv2\n",
    "import numpy as np\n",
    "import os"
   ]
  },
  {
   "cell_type": "code",
   "execution_count": 21,
   "metadata": {},
   "outputs": [],
   "source": [
    "for name in ('night','desert','social','arc','W'):\n",
    "    # Read\n",
    "    examples_folder_path = os.path.join(os.getcwd(),'images/examples/')\n",
    "    img = cv2.imread(f\"{examples_folder_path}/{name}_toRestore.png\")\n",
    "\n",
    "    # convert to hsv\n",
    "    hsv = cv2.cvtColor(img, cv2.COLOR_BGR2HSV)\n",
    "\n",
    "    # set mask to green (36, 100, 100), (60, 255,255) or red (255, 28, 0), (227, 66, 52)\n",
    "    mask = cv2.inRange(hsv, (36, 100, 100), (60, 255,255))\n",
    "\n",
    "    # slice the green\n",
    "    imask = mask>0\n",
    "    green = np.zeros_like(img, np.uint8)\n",
    "    green[imask] = img[imask]\n",
    "\n",
    "    # due to importing and exporting the image gets a bit converted, therefore dilute the mask a bit so that we are sure it fits over the noise\n",
    "    kernel = np.ones((3, 3), np.uint8)\n",
    "    img_dilation = cv2.dilate(mask, kernel, iterations=1)\n",
    "\n",
    "    # save\n",
    "    cv2.imwrite(f\"{examples_folder_path}/{name}_mask.png\", img_dilation)"
   ]
  },
  {
   "cell_type": "code",
   "execution_count": 19,
   "metadata": {},
   "outputs": [],
   "source": []
  }
 ],
 "metadata": {
  "kernelspec": {
   "display_name": "Python 3.9.12 ('base')",
   "language": "python",
   "name": "python3"
  },
  "language_info": {
   "codemirror_mode": {
    "name": "ipython",
    "version": 3
   },
   "file_extension": ".py",
   "mimetype": "text/x-python",
   "name": "python",
   "nbconvert_exporter": "python",
   "pygments_lexer": "ipython3",
   "version": "3.9.12"
  },
  "orig_nbformat": 4,
  "vscode": {
   "interpreter": {
    "hash": "f590fae540f9b4f6d3982880f38ac9f03a51b5027b9480b71e3175a047f67c61"
   }
  }
 },
 "nbformat": 4,
 "nbformat_minor": 2
}
